{
 "cells": [
  {
   "cell_type": "code",
   "execution_count": 4,
   "metadata": {},
   "outputs": [],
   "source": [
    "import pandas as pd"
   ]
  },
  {
   "cell_type": "code",
   "execution_count": 5,
   "metadata": {},
   "outputs": [
    {
     "data": {
      "text/html": [
       "<div>\n",
       "<style scoped>\n",
       "    .dataframe tbody tr th:only-of-type {\n",
       "        vertical-align: middle;\n",
       "    }\n",
       "\n",
       "    .dataframe tbody tr th {\n",
       "        vertical-align: top;\n",
       "    }\n",
       "\n",
       "    .dataframe thead th {\n",
       "        text-align: right;\n",
       "    }\n",
       "</style>\n",
       "<table border=\"1\" class=\"dataframe\">\n",
       "  <thead>\n",
       "    <tr style=\"text-align: right;\">\n",
       "      <th></th>\n",
       "      <th>NUMBER</th>\n",
       "      <th>__HN__</th>\n",
       "      <th>__DATE__</th>\n",
       "      <th>__PATIENT_NAME__</th>\n",
       "      <th>__TARGET__</th>\n",
       "      <th>__DEBT_VALUE__</th>\n",
       "      <th>__BILL_TARGET__</th>\n",
       "      <th>__STATEMENT_TARGET__</th>\n",
       "      <th>__df__</th>\n",
       "    </tr>\n",
       "  </thead>\n",
       "  <tbody>\n",
       "    <tr>\n",
       "      <th>0</th>\n",
       "      <td>1</td>\n",
       "      <td>54-648398</td>\n",
       "      <td>2024-06-01</td>\n",
       "      <td>Patient A</td>\n",
       "      <td>6333.00</td>\n",
       "      <td>4527.23</td>\n",
       "      <td>4567.40</td>\n",
       "      <td>3541.39</td>\n",
       "      <td>2791.61</td>\n",
       "    </tr>\n",
       "    <tr>\n",
       "      <th>1</th>\n",
       "      <td>2</td>\n",
       "      <td>44-972571</td>\n",
       "      <td>2024-06-01</td>\n",
       "      <td>Patient B</td>\n",
       "      <td>3455.97</td>\n",
       "      <td>2516.86</td>\n",
       "      <td>5875.18</td>\n",
       "      <td>4144.54</td>\n",
       "      <td>-688.57</td>\n",
       "    </tr>\n",
       "    <tr>\n",
       "      <th>2</th>\n",
       "      <td>3</td>\n",
       "      <td>63-456277</td>\n",
       "      <td>2024-06-01</td>\n",
       "      <td>Patient C</td>\n",
       "      <td>8686.43</td>\n",
       "      <td>7773.39</td>\n",
       "      <td>1870.12</td>\n",
       "      <td>2582.83</td>\n",
       "      <td>6103.60</td>\n",
       "    </tr>\n",
       "    <tr>\n",
       "      <th>3</th>\n",
       "      <td>4</td>\n",
       "      <td>50-522730</td>\n",
       "      <td>2024-06-01</td>\n",
       "      <td>Patient D</td>\n",
       "      <td>7470.28</td>\n",
       "      <td>9925.42</td>\n",
       "      <td>2362.81</td>\n",
       "      <td>2858.85</td>\n",
       "      <td>4611.43</td>\n",
       "    </tr>\n",
       "    <tr>\n",
       "      <th>4</th>\n",
       "      <td>5</td>\n",
       "      <td>52-272186</td>\n",
       "      <td>2024-06-01</td>\n",
       "      <td>Patient E</td>\n",
       "      <td>1104.22</td>\n",
       "      <td>4236.90</td>\n",
       "      <td>7408.26</td>\n",
       "      <td>7979.49</td>\n",
       "      <td>-6875.27</td>\n",
       "    </tr>\n",
       "    <tr>\n",
       "      <th>...</th>\n",
       "      <td>...</td>\n",
       "      <td>...</td>\n",
       "      <td>...</td>\n",
       "      <td>...</td>\n",
       "      <td>...</td>\n",
       "      <td>...</td>\n",
       "      <td>...</td>\n",
       "      <td>...</td>\n",
       "      <td>...</td>\n",
       "    </tr>\n",
       "    <tr>\n",
       "      <th>95</th>\n",
       "      <td>96</td>\n",
       "      <td>62-114463</td>\n",
       "      <td>2024-06-01</td>\n",
       "      <td>Patient</td>\n",
       "      <td>6773.94</td>\n",
       "      <td>9428.11</td>\n",
       "      <td>8948.12</td>\n",
       "      <td>8042.03</td>\n",
       "      <td>-1268.09</td>\n",
       "    </tr>\n",
       "    <tr>\n",
       "      <th>96</th>\n",
       "      <td>97</td>\n",
       "      <td>50-153546</td>\n",
       "      <td>2024-06-01</td>\n",
       "      <td>Patient ¡</td>\n",
       "      <td>8099.61</td>\n",
       "      <td>1394.96</td>\n",
       "      <td>2839.09</td>\n",
       "      <td>1773.98</td>\n",
       "      <td>6325.63</td>\n",
       "    </tr>\n",
       "    <tr>\n",
       "      <th>97</th>\n",
       "      <td>98</td>\n",
       "      <td>70-782363</td>\n",
       "      <td>2024-06-01</td>\n",
       "      <td>Patient ¢</td>\n",
       "      <td>6100.57</td>\n",
       "      <td>8895.93</td>\n",
       "      <td>408.82</td>\n",
       "      <td>6502.60</td>\n",
       "      <td>-402.03</td>\n",
       "    </tr>\n",
       "    <tr>\n",
       "      <th>98</th>\n",
       "      <td>99</td>\n",
       "      <td>60-214752</td>\n",
       "      <td>2024-06-01</td>\n",
       "      <td>Patient £</td>\n",
       "      <td>9862.25</td>\n",
       "      <td>751.89</td>\n",
       "      <td>9687.34</td>\n",
       "      <td>8731.27</td>\n",
       "      <td>1130.98</td>\n",
       "    </tr>\n",
       "    <tr>\n",
       "      <th>99</th>\n",
       "      <td>100</td>\n",
       "      <td>64-583009</td>\n",
       "      <td>2024-06-01</td>\n",
       "      <td>Patient ¤</td>\n",
       "      <td>9345.07</td>\n",
       "      <td>3960.65</td>\n",
       "      <td>570.63</td>\n",
       "      <td>2164.82</td>\n",
       "      <td>7180.25</td>\n",
       "    </tr>\n",
       "  </tbody>\n",
       "</table>\n",
       "<p>100 rows × 9 columns</p>\n",
       "</div>"
      ],
      "text/plain": [
       "    NUMBER     __HN__    __DATE__ __PATIENT_NAME__  __TARGET__  \\\n",
       "0        1  54-648398  2024-06-01        Patient A     6333.00   \n",
       "1        2  44-972571  2024-06-01        Patient B     3455.97   \n",
       "2        3  63-456277  2024-06-01        Patient C     8686.43   \n",
       "3        4  50-522730  2024-06-01        Patient D     7470.28   \n",
       "4        5  52-272186  2024-06-01        Patient E     1104.22   \n",
       "..     ...        ...         ...              ...         ...   \n",
       "95      96  62-114463  2024-06-01        Patient       6773.94   \n",
       "96      97  50-153546  2024-06-01        Patient ¡     8099.61   \n",
       "97      98  70-782363  2024-06-01        Patient ¢     6100.57   \n",
       "98      99  60-214752  2024-06-01        Patient £     9862.25   \n",
       "99     100  64-583009  2024-06-01        Patient ¤     9345.07   \n",
       "\n",
       "    __DEBT_VALUE__  __BILL_TARGET__  __STATEMENT_TARGET__   __df__  \n",
       "0          4527.23          4567.40               3541.39  2791.61  \n",
       "1          2516.86          5875.18               4144.54  -688.57  \n",
       "2          7773.39          1870.12               2582.83  6103.60  \n",
       "3          9925.42          2362.81               2858.85  4611.43  \n",
       "4          4236.90          7408.26               7979.49 -6875.27  \n",
       "..             ...              ...                   ...      ...  \n",
       "95         9428.11          8948.12               8042.03 -1268.09  \n",
       "96         1394.96          2839.09               1773.98  6325.63  \n",
       "97         8895.93           408.82               6502.60  -402.03  \n",
       "98          751.89          9687.34               8731.27  1130.98  \n",
       "99         3960.65           570.63               2164.82  7180.25  \n",
       "\n",
       "[100 rows x 9 columns]"
      ]
     },
     "execution_count": 5,
     "metadata": {},
     "output_type": "execute_result"
    }
   ],
   "source": [
    "df = pd.read_csv('patient1.csv')\n",
    "df"
   ]
  },
  {
   "cell_type": "code",
   "execution_count": 6,
   "metadata": {},
   "outputs": [
    {
     "name": "stdout",
     "output_type": "stream",
     "text": [
      "<class 'pandas.core.frame.DataFrame'>\n",
      "RangeIndex: 100 entries, 0 to 99\n",
      "Data columns (total 9 columns):\n",
      " #   Column                Non-Null Count  Dtype  \n",
      "---  ------                --------------  -----  \n",
      " 0   NUMBER                100 non-null    int64  \n",
      " 1   __HN__                100 non-null    object \n",
      " 2   __DATE__              100 non-null    object \n",
      " 3   __PATIENT_NAME__      100 non-null    object \n",
      " 4   __TARGET__            100 non-null    float64\n",
      " 5   __DEBT_VALUE__        100 non-null    float64\n",
      " 6   __BILL_TARGET__       100 non-null    float64\n",
      " 7   __STATEMENT_TARGET__  100 non-null    float64\n",
      " 8   __df__                100 non-null    float64\n",
      "dtypes: float64(5), int64(1), object(3)\n",
      "memory usage: 7.2+ KB\n"
     ]
    }
   ],
   "source": [
    "df.info()"
   ]
  },
  {
   "cell_type": "code",
   "execution_count": 23,
   "metadata": {},
   "outputs": [
    {
     "name": "stderr",
     "output_type": "stream",
     "text": [
      "C:\\Users\\sampe\\AppData\\Local\\Temp\\ipykernel_13108\\2044023174.py:1: FutureWarning: Series.__getitem__ treating keys as positions is deprecated. In a future version, integer keys will always be treated as labels (consistent with DataFrame behavior). To access a value by position, use `ser.iloc[pos]`\n",
      "  df.loc[1][0]\n"
     ]
    },
    {
     "data": {
      "text/plain": [
       "2"
      ]
     },
     "execution_count": 23,
     "metadata": {},
     "output_type": "execute_result"
    }
   ],
   "source": [
    "df.loc[1][0]"
   ]
  },
  {
   "cell_type": "code",
   "execution_count": 42,
   "metadata": {},
   "outputs": [
    {
     "name": "stdout",
     "output_type": "stream",
     "text": [
      "False\n"
     ]
    }
   ],
   "source": [
    "print(df['NUMBER'].any() == False)"
   ]
  },
  {
   "cell_type": "code",
   "execution_count": 46,
   "metadata": {},
   "outputs": [
    {
     "data": {
      "text/plain": [
       "'54-648398'"
      ]
     },
     "execution_count": 46,
     "metadata": {},
     "output_type": "execute_result"
    }
   ],
   "source": [
    "df.iloc[0, 1]"
   ]
  },
  {
   "cell_type": "code",
   "execution_count": 18,
   "metadata": {},
   "outputs": [
    {
     "name": "stdout",
     "output_type": "stream",
     "text": [
      "<class 'pandas.core.frame.DataFrame'>\n"
     ]
    }
   ],
   "source": [
    "print(type(df))"
   ]
  },
  {
   "cell_type": "code",
   "execution_count": 22,
   "metadata": {},
   "outputs": [
    {
     "data": {
      "text/plain": [
       "False"
      ]
     },
     "execution_count": 22,
     "metadata": {},
     "output_type": "execute_result"
    }
   ],
   "source": [
    "type(df) == \"<class 'pandas.core.frame.DataFrame'>\""
   ]
  },
  {
   "cell_type": "code",
   "execution_count": 2,
   "metadata": {},
   "outputs": [
    {
     "data": {
      "text/plain": [
       "True"
      ]
     },
     "execution_count": 2,
     "metadata": {},
     "output_type": "execute_result"
    }
   ],
   "source": [
    "a = 2\n",
    "a != None"
   ]
  }
 ],
 "metadata": {
  "kernelspec": {
   "display_name": "base",
   "language": "python",
   "name": "python3"
  },
  "language_info": {
   "codemirror_mode": {
    "name": "ipython",
    "version": 3
   },
   "file_extension": ".py",
   "mimetype": "text/x-python",
   "name": "python",
   "nbconvert_exporter": "python",
   "pygments_lexer": "ipython3",
   "version": "3.11.7"
  }
 },
 "nbformat": 4,
 "nbformat_minor": 2
}
